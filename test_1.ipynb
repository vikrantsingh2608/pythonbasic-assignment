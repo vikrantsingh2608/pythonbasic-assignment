{
  "nbformat": 4,
  "nbformat_minor": 0,
  "metadata": {
    "colab": {
      "provenance": []
    },
    "kernelspec": {
      "name": "python3",
      "display_name": "Python 3"
    },
    "language_info": {
      "name": "python"
    }
  },
  "cells": [
    {
      "cell_type": "code",
      "execution_count": null,
      "metadata": {
        "id": "0i2WD_LqLTOS"
      },
      "outputs": [],
      "source": [
        " # explain the key features of python that makes it a popular choice of programing"
      ]
    },
    {
      "cell_type": "code",
      "source": [
        "# features of python >>\n",
        "# it is very easy to understand\n",
        "#an extensive standard library\n",
        "#making it a popular choice among developers and programmers.\n",
        "#Readily Available Tools and IDEs\n"
      ],
      "metadata": {
        "id": "GaK4cmsmLoSY"
      },
      "execution_count": null,
      "outputs": []
    },
    {
      "cell_type": "code",
      "source": [
        " #Describe the role of predefined keywords in Python and provide examples of how they are used in a program.\n"
      ],
      "metadata": {
        "id": "xgtJU5M7yxqd"
      },
      "execution_count": null,
      "outputs": []
    },
    {
      "cell_type": "code",
      "source": [
        "#keywords >> keywords are predefined words that hold a special meaning and have specific purpose\n",
        "# these keywords are can not be use as identifiers for variable\n",
        "# examples of keywords : if, else, while, continue\n"
      ],
      "metadata": {
        "id": "FKudN19jzjZn"
      },
      "execution_count": null,
      "outputs": []
    },
    {
      "cell_type": "code",
      "source": [
        "#use in program:\n",
        "x = 11\n",
        "if x > 0:\n",
        "  print(\"x is positive\")\n",
        "elif x == 0:\n",
        "  print(\"x is equal to 0\")\n",
        "else:\n",
        "  print(\"x is negative\")\n"
      ],
      "metadata": {
        "id": "96VArFAQAzGj",
        "colab": {
          "base_uri": "https://localhost:8080/"
        },
        "outputId": "d6cfb664-ca75-474d-9dde-799162bb6409"
      },
      "execution_count": null,
      "outputs": [
        {
          "output_type": "stream",
          "name": "stdout",
          "text": [
            "x is positive\n"
          ]
        }
      ]
    },
    {
      "cell_type": "code",
      "source": [
        "#compare and contrast mutable and immutables objects in python with examples"
      ],
      "metadata": {
        "id": "rQ7LLjlWBOpr"
      },
      "execution_count": null,
      "outputs": []
    },
    {
      "cell_type": "code",
      "source": [
        "#mutable objects>>objects whoes state or vcalue can be changed after they are created is called mutable objects.\n",
        "#lists,sets,dictionaries are the objects that can be changed after they are created."
      ],
      "metadata": {
        "id": "fK2atht2BQTH"
      },
      "execution_count": null,
      "outputs": []
    },
    {
      "cell_type": "code",
      "source": [
        "list_cont = [2,4,5,8,6+9j]\n",
        "list_cont"
      ],
      "metadata": {
        "id": "-0wJBE1hBRY8",
        "colab": {
          "base_uri": "https://localhost:8080/"
        },
        "outputId": "b37ac83d-31f9-4643-862a-399fb94b14e4"
      },
      "execution_count": null,
      "outputs": [
        {
          "output_type": "execute_result",
          "data": {
            "text/plain": [
              "[2, 4, 5, 8, (6+9j)]"
            ]
          },
          "metadata": {},
          "execution_count": 3
        }
      ]
    },
    {
      "cell_type": "code",
      "source": [
        "list_cont[3] = \"ram\"\n",
        "list_cont[1] = \"book\"\n",
        "list_cont"
      ],
      "metadata": {
        "id": "RmNgoWusBR6M",
        "colab": {
          "base_uri": "https://localhost:8080/"
        },
        "outputId": "587ccca9-9a82-424c-a570-6cf19f438f7d"
      },
      "execution_count": null,
      "outputs": [
        {
          "output_type": "execute_result",
          "data": {
            "text/plain": [
              "[2, 'book', 5, 'ram', (6+9j)]"
            ]
          },
          "metadata": {},
          "execution_count": 6
        }
      ]
    },
    {
      "cell_type": "code",
      "source": [
        "#immutable objects>> objects whoes state or value can be changed after they are created is called immutable objects.\n",
        "#strings,int,float,boolian,tuples are the objects that cant be changed after they are created."
      ],
      "metadata": {
        "id": "eMcBdON_8E-D"
      },
      "execution_count": null,
      "outputs": []
    },
    {
      "cell_type": "code",
      "source": [
        "a = \"ram\"\n",
        "type(a)"
      ],
      "metadata": {
        "colab": {
          "base_uri": "https://localhost:8080/"
        },
        "id": "LoLi01ms9ByQ",
        "outputId": "1b4c2bcb-4776-4f98-d67b-919c28ff7fc2"
      },
      "execution_count": null,
      "outputs": [
        {
          "output_type": "execute_result",
          "data": {
            "text/plain": [
              "str"
            ]
          },
          "metadata": {},
          "execution_count": 11
        }
      ]
    },
    {
      "cell_type": "code",
      "source": [
        "a[2]"
      ],
      "metadata": {
        "colab": {
          "base_uri": "https://localhost:8080/",
          "height": 36
        },
        "id": "HTnQIDBX-SOD",
        "outputId": "0136c898-21bf-4730-d812-ffe1d7d4500f"
      },
      "execution_count": null,
      "outputs": [
        {
          "output_type": "execute_result",
          "data": {
            "text/plain": [
              "'m'"
            ],
            "application/vnd.google.colaboratory.intrinsic+json": {
              "type": "string"
            }
          },
          "metadata": {},
          "execution_count": 12
        }
      ]
    },
    {
      "cell_type": "code",
      "source": [
        "a[2] = \"H\"\n",
        "a"
      ],
      "metadata": {
        "colab": {
          "base_uri": "https://localhost:8080/",
          "height": 164
        },
        "id": "qqnaWjAY9Jc7",
        "outputId": "d95addce-67c7-46f1-ad23-60af2a729687"
      },
      "execution_count": null,
      "outputs": [
        {
          "output_type": "error",
          "ename": "TypeError",
          "evalue": "'str' object does not support item assignment",
          "traceback": [
            "\u001b[0;31m---------------------------------------------------------------------------\u001b[0m",
            "\u001b[0;31mTypeError\u001b[0m                                 Traceback (most recent call last)",
            "\u001b[0;32m<ipython-input-9-69953d0cdc36>\u001b[0m in \u001b[0;36m<cell line: 1>\u001b[0;34m()\u001b[0m\n\u001b[0;32m----> 1\u001b[0;31m \u001b[0ma\u001b[0m\u001b[0;34m[\u001b[0m\u001b[0;36m2\u001b[0m\u001b[0;34m]\u001b[0m \u001b[0;34m=\u001b[0m \u001b[0;34m\"H\"\u001b[0m\u001b[0;34m\u001b[0m\u001b[0;34m\u001b[0m\u001b[0m\n\u001b[0m\u001b[1;32m      2\u001b[0m \u001b[0ma\u001b[0m\u001b[0;34m\u001b[0m\u001b[0;34m\u001b[0m\u001b[0m\n",
            "\u001b[0;31mTypeError\u001b[0m: 'str' object does not support item assignment"
          ]
        }
      ]
    },
    {
      "cell_type": "code",
      "source": [
        "#discuss the diffrent type of operators in python and provide examples how they are used?"
      ],
      "metadata": {
        "id": "we3qx4rm9hK8"
      },
      "execution_count": null,
      "outputs": []
    },
    {
      "cell_type": "code",
      "source": [
        "#operators >> operators are the special keywords to perform operators\n",
        "#examples are mathematical,bitwise,shift operators"
      ],
      "metadata": {
        "id": "Ag4oJiIU-GcT"
      },
      "execution_count": null,
      "outputs": []
    },
    {
      "cell_type": "code",
      "source": [
        "#mathematical operators\n",
        "a =23\n",
        "b =14\n",
        "a*b"
      ],
      "metadata": {
        "colab": {
          "base_uri": "https://localhost:8080/"
        },
        "id": "OTSsLw6mHRq-",
        "outputId": "583facce-2d63-4b69-f8e0-ba296053b62d"
      },
      "execution_count": null,
      "outputs": [
        {
          "output_type": "execute_result",
          "data": {
            "text/plain": [
              "322"
            ]
          },
          "metadata": {},
          "execution_count": 16
        }
      ]
    },
    {
      "cell_type": "code",
      "source": [
        "a =4\n",
        "a**3"
      ],
      "metadata": {
        "colab": {
          "base_uri": "https://localhost:8080/"
        },
        "id": "hkbQP2dVHbAD",
        "outputId": "60a43ec3-f4d4-4d88-beff-ae98c3f8669c"
      },
      "execution_count": null,
      "outputs": [
        {
          "output_type": "execute_result",
          "data": {
            "text/plain": [
              "64"
            ]
          },
          "metadata": {},
          "execution_count": 17
        }
      ]
    },
    {
      "cell_type": "code",
      "source": [
        "#logical operators\n",
        "True and False"
      ],
      "metadata": {
        "colab": {
          "base_uri": "https://localhost:8080/"
        },
        "id": "DHSJhbx4Ht7M",
        "outputId": "cb965931-dc03-423f-a31c-c3469ea83e09"
      },
      "execution_count": null,
      "outputs": [
        {
          "output_type": "execute_result",
          "data": {
            "text/plain": [
              "False"
            ]
          },
          "metadata": {},
          "execution_count": 18
        }
      ]
    },
    {
      "cell_type": "code",
      "source": [
        "True or False"
      ],
      "metadata": {
        "colab": {
          "base_uri": "https://localhost:8080/"
        },
        "id": "8Wd1bYwQI4J6",
        "outputId": "b228016e-595d-47c6-8e21-2c9f45db947b"
      },
      "execution_count": null,
      "outputs": [
        {
          "output_type": "execute_result",
          "data": {
            "text/plain": [
              "True"
            ]
          },
          "metadata": {},
          "execution_count": 19
        }
      ]
    },
    {
      "cell_type": "code",
      "source": [
        "1 or 0"
      ],
      "metadata": {
        "colab": {
          "base_uri": "https://localhost:8080/"
        },
        "id": "CjuWI2PgI_M4",
        "outputId": "16a4f396-54a3-44d5-89a3-9d2b12dda5af"
      },
      "execution_count": null,
      "outputs": [
        {
          "output_type": "execute_result",
          "data": {
            "text/plain": [
              "1"
            ]
          },
          "metadata": {},
          "execution_count": 20
        }
      ]
    },
    {
      "cell_type": "code",
      "source": [
        "0 or 0"
      ],
      "metadata": {
        "colab": {
          "base_uri": "https://localhost:8080/"
        },
        "id": "Zo5IXIDjJCDh",
        "outputId": "1a2ea58c-af7f-44cc-9558-cde58d26553f"
      },
      "execution_count": null,
      "outputs": [
        {
          "output_type": "execute_result",
          "data": {
            "text/plain": [
              "0"
            ]
          },
          "metadata": {},
          "execution_count": 21
        }
      ]
    },
    {
      "cell_type": "code",
      "source": [
        "#floor operator\n",
        "20//4"
      ],
      "metadata": {
        "colab": {
          "base_uri": "https://localhost:8080/"
        },
        "id": "GrYC27g3JGB8",
        "outputId": "4df295c6-3fc5-4c1f-cb18-a7c4d4514e46"
      },
      "execution_count": null,
      "outputs": [
        {
          "output_type": "execute_result",
          "data": {
            "text/plain": [
              "5"
            ]
          },
          "metadata": {},
          "execution_count": 22
        }
      ]
    },
    {
      "cell_type": "code",
      "source": [
        "#modulas Operator\n",
        "21%6"
      ],
      "metadata": {
        "colab": {
          "base_uri": "https://localhost:8080/"
        },
        "id": "RhsclKKMJclp",
        "outputId": "13f5c0e0-bddb-4f55-f704-f3f46951fca6"
      },
      "execution_count": null,
      "outputs": [
        {
          "output_type": "execute_result",
          "data": {
            "text/plain": [
              "3"
            ]
          },
          "metadata": {},
          "execution_count": 24
        }
      ]
    },
    {
      "cell_type": "code",
      "source": [
        "24/7"
      ],
      "metadata": {
        "colab": {
          "base_uri": "https://localhost:8080/"
        },
        "id": "6_FJltMpJu3R",
        "outputId": "a221a426-f7fe-4767-f7d2-ace52e9aba4e"
      },
      "execution_count": null,
      "outputs": [
        {
          "output_type": "execute_result",
          "data": {
            "text/plain": [
              "3.4285714285714284"
            ]
          },
          "metadata": {},
          "execution_count": 33
        }
      ]
    },
    {
      "cell_type": "code",
      "source": [
        "#bitwise operator >> operations at bit level"
      ],
      "metadata": {
        "id": "YFQsFcq-YYHP"
      },
      "execution_count": null,
      "outputs": []
    },
    {
      "cell_type": "code",
      "source": [
        "6 % 5"
      ],
      "metadata": {
        "colab": {
          "base_uri": "https://localhost:8080/"
        },
        "id": "J3WjROQVYhK8",
        "outputId": "88ccc73e-adfb-4dc2-bfc5-deba09c28e01"
      },
      "execution_count": null,
      "outputs": [
        {
          "output_type": "execute_result",
          "data": {
            "text/plain": [
              "1"
            ]
          },
          "metadata": {},
          "execution_count": 37
        }
      ]
    },
    {
      "cell_type": "code",
      "source": [
        "bin(6)"
      ],
      "metadata": {
        "colab": {
          "base_uri": "https://localhost:8080/",
          "height": 36
        },
        "id": "mNpBbRHkYybe",
        "outputId": "d0c5a981-5817-4851-d73a-ee2c430529c6"
      },
      "execution_count": null,
      "outputs": [
        {
          "output_type": "execute_result",
          "data": {
            "text/plain": [
              "'0b110'"
            ],
            "application/vnd.google.colaboratory.intrinsic+json": {
              "type": "string"
            }
          },
          "metadata": {},
          "execution_count": 40
        }
      ]
    },
    {
      "cell_type": "code",
      "source": [
        "bin(5)"
      ],
      "metadata": {
        "colab": {
          "base_uri": "https://localhost:8080/",
          "height": 36
        },
        "id": "-GMgjH7XY-0z",
        "outputId": "f9696b36-469a-4019-c3c5-9019ffad8a1d"
      },
      "execution_count": null,
      "outputs": [
        {
          "output_type": "execute_result",
          "data": {
            "text/plain": [
              "'0b101'"
            ],
            "application/vnd.google.colaboratory.intrinsic+json": {
              "type": "string"
            }
          },
          "metadata": {},
          "execution_count": 41
        }
      ]
    },
    {
      "cell_type": "code",
      "source": [
        "#shift operator >> shift the bits left or right\n",
        "16<<2"
      ],
      "metadata": {
        "colab": {
          "base_uri": "https://localhost:8080/"
        },
        "id": "76AS0NAgT__5",
        "outputId": "99347deb-5f16-4eae-81f8-4c12898ec89e"
      },
      "execution_count": null,
      "outputs": [
        {
          "output_type": "execute_result",
          "data": {
            "text/plain": [
              "64"
            ]
          },
          "metadata": {},
          "execution_count": 34
        }
      ]
    },
    {
      "cell_type": "code",
      "source": [
        "bin(16)"
      ],
      "metadata": {
        "colab": {
          "base_uri": "https://localhost:8080/",
          "height": 36
        },
        "id": "-8q6v9DnYtzb",
        "outputId": "9da835c4-8f92-4406-cbac-174f4bad8e2d"
      },
      "execution_count": null,
      "outputs": [
        {
          "output_type": "execute_result",
          "data": {
            "text/plain": [
              "'0b10000'"
            ],
            "application/vnd.google.colaboratory.intrinsic+json": {
              "type": "string"
            }
          },
          "metadata": {},
          "execution_count": 42
        }
      ]
    },
    {
      "cell_type": "code",
      "source": [
        "bin(64)"
      ],
      "metadata": {
        "colab": {
          "base_uri": "https://localhost:8080/",
          "height": 36
        },
        "id": "vEYc-PGAZNeQ",
        "outputId": "73258908-44ed-4704-82dd-a8751015302d"
      },
      "execution_count": null,
      "outputs": [
        {
          "output_type": "execute_result",
          "data": {
            "text/plain": [
              "'0b1000000'"
            ],
            "application/vnd.google.colaboratory.intrinsic+json": {
              "type": "string"
            }
          },
          "metadata": {},
          "execution_count": 43
        }
      ]
    },
    {
      "cell_type": "code",
      "source": [
        "64>>2"
      ],
      "metadata": {
        "colab": {
          "base_uri": "https://localhost:8080/"
        },
        "id": "pqhwAi2EXqSp",
        "outputId": "a96f385f-eff8-4d95-dd6e-e977fd00525d"
      },
      "execution_count": null,
      "outputs": [
        {
          "output_type": "execute_result",
          "data": {
            "text/plain": [
              "16"
            ]
          },
          "metadata": {},
          "execution_count": 19
        }
      ]
    },
    {
      "cell_type": "code",
      "source": [
        "#concatination\n",
        "a = \"ram\"\n",
        "b = \" kumar\"\n",
        "a+b"
      ],
      "metadata": {
        "colab": {
          "base_uri": "https://localhost:8080/",
          "height": 36
        },
        "id": "5G2IOaa4gf7Y",
        "outputId": "703f5b04-e687-4177-96d5-f0b57749b72c"
      },
      "execution_count": null,
      "outputs": [
        {
          "output_type": "execute_result",
          "data": {
            "text/plain": [
              "'ram kumar'"
            ],
            "application/vnd.google.colaboratory.intrinsic+json": {
              "type": "string"
            }
          },
          "metadata": {},
          "execution_count": 21
        }
      ]
    },
    {
      "cell_type": "code",
      "source": [
        "#explain the concept of type casting in python with examples."
      ],
      "metadata": {
        "id": "SxbWxIYmZX9a"
      },
      "execution_count": null,
      "outputs": []
    },
    {
      "cell_type": "code",
      "source": [
        "# type casting >> the process of changing the data type of a value/objects\n",
        "#string to integer"
      ],
      "metadata": {
        "id": "toyIfJgtZtvw"
      },
      "execution_count": null,
      "outputs": []
    },
    {
      "cell_type": "code",
      "source": [
        "a = \"10\"\n",
        "type((a))"
      ],
      "metadata": {
        "colab": {
          "base_uri": "https://localhost:8080/"
        },
        "id": "f_0Y1PRggoO4",
        "outputId": "3d521028-6b0c-4512-98bf-500ebb10ee87"
      },
      "execution_count": null,
      "outputs": [
        {
          "output_type": "execute_result",
          "data": {
            "text/plain": [
              "str"
            ]
          },
          "metadata": {},
          "execution_count": 48
        }
      ]
    },
    {
      "cell_type": "code",
      "source": [
        "a =int(a)\n",
        "a"
      ],
      "metadata": {
        "colab": {
          "base_uri": "https://localhost:8080/"
        },
        "id": "SqXwUqGLgvBk",
        "outputId": "9b38bac3-47eb-4f2d-99ab-ade7a4702f2b"
      },
      "execution_count": null,
      "outputs": [
        {
          "output_type": "execute_result",
          "data": {
            "text/plain": [
              "10"
            ]
          },
          "metadata": {},
          "execution_count": 49
        }
      ]
    },
    {
      "cell_type": "code",
      "source": [
        "#integer to string\n",
        "a =7\n",
        "type(a)"
      ],
      "metadata": {
        "colab": {
          "base_uri": "https://localhost:8080/"
        },
        "id": "bEVSpXkyg5WW",
        "outputId": "977a8f7f-2e36-4bc6-ed65-29f098417960"
      },
      "execution_count": null,
      "outputs": [
        {
          "output_type": "execute_result",
          "data": {
            "text/plain": [
              "int"
            ]
          },
          "metadata": {},
          "execution_count": 50
        }
      ]
    },
    {
      "cell_type": "code",
      "source": [
        "a =str(a)\n",
        "a"
      ],
      "metadata": {
        "colab": {
          "base_uri": "https://localhost:8080/",
          "height": 36
        },
        "id": "-flIKph8hSWZ",
        "outputId": "75c731db-80e2-470f-9f81-e47656f8c4cd"
      },
      "execution_count": null,
      "outputs": [
        {
          "output_type": "execute_result",
          "data": {
            "text/plain": [
              "'7'"
            ],
            "application/vnd.google.colaboratory.intrinsic+json": {
              "type": "string"
            }
          },
          "metadata": {},
          "execution_count": 51
        }
      ]
    },
    {
      "cell_type": "code",
      "source": [
        "# float to string\n",
        "a = 2.75\n",
        "type(a)\n",
        "print(type(str(a)))"
      ],
      "metadata": {
        "colab": {
          "base_uri": "https://localhost:8080/"
        },
        "id": "wOTF-vO6hX9w",
        "outputId": "fa1e12f6-58a8-476c-d9c0-1b571407a96d"
      },
      "execution_count": null,
      "outputs": [
        {
          "output_type": "stream",
          "name": "stdout",
          "text": [
            "<class 'str'>\n"
          ]
        }
      ]
    },
    {
      "cell_type": "code",
      "source": [
        "#string as numerical can be changed in float or int but character can't be change into int or str\n",
        "a =\"ram\"\n",
        "type(a)"
      ],
      "metadata": {
        "colab": {
          "base_uri": "https://localhost:8080/"
        },
        "id": "AMVnQNYDiAqi",
        "outputId": "04a81c39-280d-4390-943d-331f33cbf3d7"
      },
      "execution_count": null,
      "outputs": [
        {
          "output_type": "execute_result",
          "data": {
            "text/plain": [
              "str"
            ]
          },
          "metadata": {},
          "execution_count": 54
        }
      ]
    },
    {
      "cell_type": "code",
      "source": [
        "a = int(a)"
      ],
      "metadata": {
        "colab": {
          "base_uri": "https://localhost:8080/",
          "height": 146
        },
        "id": "m8CF2ujZibny",
        "outputId": "367738aa-26be-4368-bbfd-d94099a600f7"
      },
      "execution_count": null,
      "outputs": [
        {
          "output_type": "error",
          "ename": "ValueError",
          "evalue": "invalid literal for int() with base 10: 'ram'",
          "traceback": [
            "\u001b[0;31m---------------------------------------------------------------------------\u001b[0m",
            "\u001b[0;31mValueError\u001b[0m                                Traceback (most recent call last)",
            "\u001b[0;32m<ipython-input-56-8941b20ea7e0>\u001b[0m in \u001b[0;36m<cell line: 1>\u001b[0;34m()\u001b[0m\n\u001b[0;32m----> 1\u001b[0;31m \u001b[0ma\u001b[0m \u001b[0;34m=\u001b[0m \u001b[0mint\u001b[0m\u001b[0;34m(\u001b[0m\u001b[0ma\u001b[0m\u001b[0;34m)\u001b[0m\u001b[0;34m\u001b[0m\u001b[0;34m\u001b[0m\u001b[0m\n\u001b[0m",
            "\u001b[0;31mValueError\u001b[0m: invalid literal for int() with base 10: 'ram'"
          ]
        }
      ]
    },
    {
      "cell_type": "code",
      "source": [
        "# how do conditional statement work in python?illustrate with example."
      ],
      "metadata": {
        "id": "zvGR9ywXilp8"
      },
      "execution_count": null,
      "outputs": []
    },
    {
      "cell_type": "code",
      "source": [
        "x = 75\n",
        "y = 25\n",
        "if x <=76:\n",
        "  if y <=24:\n",
        "    print(\"condition is not true\")\n",
        "  else:\n",
        "      print(\"condition is true\")\n",
        "else:\n",
        "  print(\"condition is completly false\")\n"
      ],
      "metadata": {
        "id": "PQnf_no6jd_E",
        "colab": {
          "base_uri": "https://localhost:8080/"
        },
        "outputId": "9fb4d299-d4e8-4b11-b820-60f384340837"
      },
      "execution_count": null,
      "outputs": [
        {
          "output_type": "stream",
          "name": "stdout",
          "text": [
            "condition is true\n"
          ]
        }
      ]
    },
    {
      "cell_type": "code",
      "source": [
        "name = input(\"name\")\n",
        "email =input(\"email\")\n",
        "password =input(\"password\")\n",
        "if name ==\"\":\n",
        "  print(\"please enter your name\")\n",
        "else:\n",
        "    if \"@\"not in email:\n",
        "      print(\"please enter your valid email\")\n",
        "    else:\n",
        "      if len(password)<4:\n",
        "        print(\" please enter your password\")\n",
        "      else:\n",
        "        print(\"your account is successfully created\")"
      ],
      "metadata": {
        "colab": {
          "base_uri": "https://localhost:8080/"
        },
        "id": "lD991s60ZT_S",
        "outputId": "acd1b730-aeb8-4bc3-9d26-adee58377bd5"
      },
      "execution_count": null,
      "outputs": [
        {
          "output_type": "stream",
          "name": "stdout",
          "text": [
            "name vikrant singh\n",
            "email vikrantsinghkirar0@gmail.com\n",
            "password roman123\n",
            "your account is successfully created\n"
          ]
        }
      ]
    },
    {
      "cell_type": "code",
      "source": [
        "# describe the different types of loops in python and their use cases in python"
      ],
      "metadata": {
        "id": "0-Z2eGhNcf6o"
      },
      "execution_count": null,
      "outputs": []
    },
    {
      "cell_type": "code",
      "source": [],
      "metadata": {
        "id": "e8ErO2-tgOuz"
      },
      "execution_count": null,
      "outputs": []
    },
    {
      "cell_type": "code",
      "source": [
        "# loops >> it allow you to execute the a block repeatedly.\n",
        "# types of loop >> \"\"while\" loop and \"for\" loop\n",
        "# \"while\"loop >> execute the block repeatedly until the condition is not met.>> for integers,float\n",
        "# \"for\"loop >> iterate over a sequence of elements.>>strings ,list"
      ],
      "metadata": {
        "id": "RROyZyuGeBys"
      },
      "execution_count": null,
      "outputs": []
    },
    {
      "cell_type": "code",
      "source": [
        "n =8\n",
        "i =1\n",
        "while i <=n:\n",
        "  i = i+1\n",
        "  if i == 5:\n",
        "    continue\n",
        "  print(i)\n",
        "else:\n",
        "  print(\"loop is continue\")"
      ],
      "metadata": {
        "colab": {
          "base_uri": "https://localhost:8080/"
        },
        "id": "shii-QLF254y",
        "outputId": "18fbf720-9f05-4ccc-8db8-757b5d4b0812"
      },
      "execution_count": null,
      "outputs": [
        {
          "output_type": "stream",
          "name": "stdout",
          "text": [
            "2\n",
            "3\n",
            "4\n",
            "6\n",
            "7\n",
            "8\n",
            "9\n",
            "loop is continue\n"
          ]
        }
      ]
    },
    {
      "cell_type": "code",
      "source": [
        "count =6\n",
        "while count >0:\n",
        "  if count == 3:\n",
        "    break\n",
        "  print(count)\n",
        "  count = count -1"
      ],
      "metadata": {
        "colab": {
          "base_uri": "https://localhost:8080/"
        },
        "id": "zKV6TUrB3igG",
        "outputId": "f68d70ad-b104-4eeb-fef3-bde662ff9a05"
      },
      "execution_count": null,
      "outputs": [
        {
          "output_type": "stream",
          "name": "stdout",
          "text": [
            "6\n",
            "5\n",
            "4\n"
          ]
        }
      ]
    },
    {
      "cell_type": "code",
      "source": [
        "l =[1,2,\"dholpur\",\"saipau\",\"bari\",\"rajakhera\",\"baseri\"]\n",
        "for i in l:\n",
        "  if i == \"rajakhera\":\n",
        "    break\n",
        "  print(i)"
      ],
      "metadata": {
        "colab": {
          "base_uri": "https://localhost:8080/"
        },
        "id": "SC6iS0He4K1P",
        "outputId": "38b4e688-7283-404b-884f-2871dab92276"
      },
      "execution_count": null,
      "outputs": [
        {
          "output_type": "stream",
          "name": "stdout",
          "text": [
            "1\n",
            "2\n",
            "dholpur\n",
            "saipau\n",
            "bari\n"
          ]
        }
      ]
    },
    {
      "cell_type": "code",
      "source": [
        "l =[1,2,\"dholpur\",\"saipau\",\"bari\",\"rajakhera\",\"baseri\"]\n",
        "for i in l:\n",
        "  if i == \"rajakhera\":\n",
        "    continue\n",
        "  print(i)"
      ],
      "metadata": {
        "colab": {
          "base_uri": "https://localhost:8080/"
        },
        "id": "UP1-eZWr7GeT",
        "outputId": "fa1ee280-5911-4c6d-94a6-5b236dcbbdee"
      },
      "execution_count": null,
      "outputs": [
        {
          "output_type": "stream",
          "name": "stdout",
          "text": [
            "1\n",
            "2\n",
            "dholpur\n",
            "saipau\n",
            "bari\n",
            "baseri\n"
          ]
        }
      ]
    },
    {
      "cell_type": "code",
      "source": [
        "list(range(0,49,3))\n",
        "for i in range(0,37,3):\n",
        "  if i == 27:\n",
        "    continue\n",
        "  print(i)"
      ],
      "metadata": {
        "colab": {
          "base_uri": "https://localhost:8080/"
        },
        "id": "g-MC8nKn74G0",
        "outputId": "e1d89f7c-179b-4747-f478-fdc2e11e10a9"
      },
      "execution_count": null,
      "outputs": [
        {
          "output_type": "stream",
          "name": "stdout",
          "text": [
            "0\n",
            "3\n",
            "6\n",
            "9\n",
            "12\n",
            "15\n",
            "18\n",
            "21\n",
            "24\n",
            "30\n",
            "33\n",
            "36\n"
          ]
        }
      ]
    },
    {
      "cell_type": "code",
      "source": [
        "row = 1\n",
        "while row <=5:\n",
        "  col =1\n",
        "  while col <=row:\n",
        "    print(\"*\",end =\"\")\n",
        "    col = col +1\n",
        "  print()\n",
        "  row =row+1"
      ],
      "metadata": {
        "colab": {
          "base_uri": "https://localhost:8080/"
        },
        "id": "Wrrol-KD8a8_",
        "outputId": "5fa9fd93-e2de-4aaa-e2bb-041ea911daa6"
      },
      "execution_count": null,
      "outputs": [
        {
          "output_type": "stream",
          "name": "stdout",
          "text": [
            "*\n",
            "**\n",
            "***\n",
            "****\n",
            "*****\n"
          ]
        }
      ]
    },
    {
      "cell_type": "code",
      "source": [
        "for i in range(5):\n",
        "  for j in range(5):\n",
        "      print(\"*\",end =\"\")\n",
        "  print()"
      ],
      "metadata": {
        "colab": {
          "base_uri": "https://localhost:8080/"
        },
        "id": "s998HMXuA0ov",
        "outputId": "dee26849-2909-4c2f-ec06-cd9509c971ff"
      },
      "execution_count": null,
      "outputs": [
        {
          "output_type": "stream",
          "name": "stdout",
          "text": [
            "*****\n",
            "*****\n",
            "*****\n",
            "*****\n",
            "*****\n"
          ]
        }
      ]
    },
    {
      "cell_type": "code",
      "source": [],
      "metadata": {
        "id": "FLWjOcTlCAcI"
      },
      "execution_count": null,
      "outputs": []
    }
  ]
}